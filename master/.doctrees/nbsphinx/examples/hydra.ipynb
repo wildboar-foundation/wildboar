{
 "cells": [
  {
   "cell_type": "markdown",
   "id": "39cd02d4-79b4-41c0-ae7f-a7b698721e3e",
   "metadata": {},
   "source": [
    "# Convolution transforms\n",
    "\n",
    "Wildboar implements two convolutional transformation methods `Rocket` and `Hydra`, described by Dempsar et. al. (2020, 2023). Both algorithms employ random convolutional kernels, but in sligtly different manners. In `Rocket`, each kernel is applied to each time series and the maximum activation value and the average number of positive activations are recorded. In `Hydra`, the kernels are partitioned into groups and for each exponential dilation and padding combination each kernel is applied to each time series and the number of times and the number of times each kernel has the highest activation value and the lowest is recorded. Then the features corresponds to the number of times a kernel had the in-group highest activation and the average of the lowest activation."
   ]
  },
  {
   "cell_type": "code",
   "execution_count": 1,
   "id": "d8d8a2e4-bcdf-481f-8c12-6fb7415819ce",
   "metadata": {
    "execution": {
     "iopub.execute_input": "2023-11-15T22:54:14.087286Z",
     "iopub.status.busy": "2023-11-15T22:54:14.087092Z",
     "iopub.status.idle": "2023-11-15T22:54:14.683611Z",
     "shell.execute_reply": "2023-11-15T22:54:14.682903Z"
    }
   },
   "outputs": [],
   "source": [
    "from sklearn.ensemble import StackingClassifier\n",
    "from sklearn.linear_model import RidgeClassifierCV\n",
    "from sklearn.model_selection import train_test_split\n",
    "from sklearn.pipeline import make_pipeline, make_union\n",
    "from sklearn.preprocessing import StandardScaler\n",
    "\n",
    "from wildboar.datasets import load_dataset\n",
    "from wildboar.datasets.preprocess import SparseScaler\n",
    "from wildboar.ensemble import ShapeletForestClassifier\n",
    "from wildboar.transform import DiffTransform, HydraTransform, RocketTransform"
   ]
  },
  {
   "cell_type": "markdown",
   "id": "34e1e4ef-54b0-49dc-8623-47c413cdbcee",
   "metadata": {},
   "source": [
    "For the purpose of this example, we load the `MoteStrain` dataset for the UCR time series archive and split it into two parts: one for fitting the transformation and one for evaluating the predictive performance."
   ]
  },
  {
   "cell_type": "code",
   "execution_count": 2,
   "id": "8c35185f-81cf-494d-9266-2752ac608b99",
   "metadata": {
    "execution": {
     "iopub.execute_input": "2023-11-15T22:54:14.686972Z",
     "iopub.status.busy": "2023-11-15T22:54:14.686544Z",
     "iopub.status.idle": "2023-11-15T22:54:14.864408Z",
     "shell.execute_reply": "2023-11-15T22:54:14.863693Z"
    }
   },
   "outputs": [],
   "source": [
    "X, y = load_dataset(\"MoteStrain\")\n",
    "X_train, X_test, y_train, y_test = train_test_split(X, y, random_state=1)"
   ]
  },
  {
   "cell_type": "markdown",
   "id": "d6ec1f2b-f3ea-4896-adcd-f03f4ad7efde",
   "metadata": {},
   "source": [
    "## Hydra transform\n",
    "In Wildboar, we make heavy use of `scikit-learn` functionalities and can employ these features directly. Here, we create a pipeline where we first transform each time series to the representation imposed by `Hydra` (with the default parameters `n_groups=64` and `n_kernels=8`). The subsequent steps of the pipeline applies a sparse scaling which accounts for the sparsity introduced by the transform (remember, we count the number of times a kernel has the highest activation and in many caseses a single kernel never has) and finally applies a standard Ridge classifier to the output."
   ]
  },
  {
   "cell_type": "code",
   "execution_count": 3,
   "id": "3c3e0c6f-5947-4ce0-9e7f-bc7a77441af7",
   "metadata": {
    "execution": {
     "iopub.execute_input": "2023-11-15T22:54:14.867561Z",
     "iopub.status.busy": "2023-11-15T22:54:14.867114Z",
     "iopub.status.idle": "2023-11-15T22:54:14.870599Z",
     "shell.execute_reply": "2023-11-15T22:54:14.869977Z"
    }
   },
   "outputs": [],
   "source": [
    "hydra = make_pipeline(\n",
    "    HydraTransform(random_state=1, n_jobs=-1),\n",
    "    SparseScaler(),\n",
    "    RidgeClassifierCV(),\n",
    ")"
   ]
  },
  {
   "cell_type": "code",
   "execution_count": 4,
   "id": "33c34c1d-160f-457f-9452-bb134de35722",
   "metadata": {
    "execution": {
     "iopub.execute_input": "2023-11-15T22:54:14.873230Z",
     "iopub.status.busy": "2023-11-15T22:54:14.872840Z",
     "iopub.status.idle": "2023-11-15T22:54:16.791314Z",
     "shell.execute_reply": "2023-11-15T22:54:16.790670Z"
    }
   },
   "outputs": [
    {
     "data": {
      "text/html": [
       "<style>#sk-container-id-1 {color: black;}#sk-container-id-1 pre{padding: 0;}#sk-container-id-1 div.sk-toggleable {background-color: white;}#sk-container-id-1 label.sk-toggleable__label {cursor: pointer;display: block;width: 100%;margin-bottom: 0;padding: 0.3em;box-sizing: border-box;text-align: center;}#sk-container-id-1 label.sk-toggleable__label-arrow:before {content: \"▸\";float: left;margin-right: 0.25em;color: #696969;}#sk-container-id-1 label.sk-toggleable__label-arrow:hover:before {color: black;}#sk-container-id-1 div.sk-estimator:hover label.sk-toggleable__label-arrow:before {color: black;}#sk-container-id-1 div.sk-toggleable__content {max-height: 0;max-width: 0;overflow: hidden;text-align: left;background-color: #f0f8ff;}#sk-container-id-1 div.sk-toggleable__content pre {margin: 0.2em;color: black;border-radius: 0.25em;background-color: #f0f8ff;}#sk-container-id-1 input.sk-toggleable__control:checked~div.sk-toggleable__content {max-height: 200px;max-width: 100%;overflow: auto;}#sk-container-id-1 input.sk-toggleable__control:checked~label.sk-toggleable__label-arrow:before {content: \"▾\";}#sk-container-id-1 div.sk-estimator input.sk-toggleable__control:checked~label.sk-toggleable__label {background-color: #d4ebff;}#sk-container-id-1 div.sk-label input.sk-toggleable__control:checked~label.sk-toggleable__label {background-color: #d4ebff;}#sk-container-id-1 input.sk-hidden--visually {border: 0;clip: rect(1px 1px 1px 1px);clip: rect(1px, 1px, 1px, 1px);height: 1px;margin: -1px;overflow: hidden;padding: 0;position: absolute;width: 1px;}#sk-container-id-1 div.sk-estimator {font-family: monospace;background-color: #f0f8ff;border: 1px dotted black;border-radius: 0.25em;box-sizing: border-box;margin-bottom: 0.5em;}#sk-container-id-1 div.sk-estimator:hover {background-color: #d4ebff;}#sk-container-id-1 div.sk-parallel-item::after {content: \"\";width: 100%;border-bottom: 1px solid gray;flex-grow: 1;}#sk-container-id-1 div.sk-label:hover label.sk-toggleable__label {background-color: #d4ebff;}#sk-container-id-1 div.sk-serial::before {content: \"\";position: absolute;border-left: 1px solid gray;box-sizing: border-box;top: 0;bottom: 0;left: 50%;z-index: 0;}#sk-container-id-1 div.sk-serial {display: flex;flex-direction: column;align-items: center;background-color: white;padding-right: 0.2em;padding-left: 0.2em;position: relative;}#sk-container-id-1 div.sk-item {position: relative;z-index: 1;}#sk-container-id-1 div.sk-parallel {display: flex;align-items: stretch;justify-content: center;background-color: white;position: relative;}#sk-container-id-1 div.sk-item::before, #sk-container-id-1 div.sk-parallel-item::before {content: \"\";position: absolute;border-left: 1px solid gray;box-sizing: border-box;top: 0;bottom: 0;left: 50%;z-index: -1;}#sk-container-id-1 div.sk-parallel-item {display: flex;flex-direction: column;z-index: 1;position: relative;background-color: white;}#sk-container-id-1 div.sk-parallel-item:first-child::after {align-self: flex-end;width: 50%;}#sk-container-id-1 div.sk-parallel-item:last-child::after {align-self: flex-start;width: 50%;}#sk-container-id-1 div.sk-parallel-item:only-child::after {width: 0;}#sk-container-id-1 div.sk-dashed-wrapped {border: 1px dashed gray;margin: 0 0.4em 0.5em 0.4em;box-sizing: border-box;padding-bottom: 0.4em;background-color: white;}#sk-container-id-1 div.sk-label label {font-family: monospace;font-weight: bold;display: inline-block;line-height: 1.2em;}#sk-container-id-1 div.sk-label-container {text-align: center;}#sk-container-id-1 div.sk-container {/* jupyter's `normalize.less` sets `[hidden] { display: none; }` but bootstrap.min.css set `[hidden] { display: none !important; }` so we also need the `!important` here to be able to override the default hidden behavior on the sphinx rendered scikit-learn.org. See: https://github.com/scikit-learn/scikit-learn/issues/21755 */display: inline-block !important;position: relative;}#sk-container-id-1 div.sk-text-repr-fallback {display: none;}</style><div id=\"sk-container-id-1\" class=\"sk-top-container\"><div class=\"sk-text-repr-fallback\"><pre>Pipeline(steps=[(&#x27;hydratransform&#x27;, HydraTransform(n_jobs=-1, random_state=1)),\n",
       "                (&#x27;sparsescaler&#x27;, SparseScaler()),\n",
       "                (&#x27;ridgeclassifiercv&#x27;, RidgeClassifierCV())])</pre><b>In a Jupyter environment, please rerun this cell to show the HTML representation or trust the notebook. <br />On GitHub, the HTML representation is unable to render, please try loading this page with nbviewer.org.</b></div><div class=\"sk-container\" hidden><div class=\"sk-item sk-dashed-wrapped\"><div class=\"sk-label-container\"><div class=\"sk-label sk-toggleable\"><input class=\"sk-toggleable__control sk-hidden--visually\" id=\"sk-estimator-id-1\" type=\"checkbox\" ><label for=\"sk-estimator-id-1\" class=\"sk-toggleable__label sk-toggleable__label-arrow\">Pipeline</label><div class=\"sk-toggleable__content\"><pre>Pipeline(steps=[(&#x27;hydratransform&#x27;, HydraTransform(n_jobs=-1, random_state=1)),\n",
       "                (&#x27;sparsescaler&#x27;, SparseScaler()),\n",
       "                (&#x27;ridgeclassifiercv&#x27;, RidgeClassifierCV())])</pre></div></div></div><div class=\"sk-serial\"><div class=\"sk-item\"><div class=\"sk-estimator sk-toggleable\"><input class=\"sk-toggleable__control sk-hidden--visually\" id=\"sk-estimator-id-2\" type=\"checkbox\" ><label for=\"sk-estimator-id-2\" class=\"sk-toggleable__label sk-toggleable__label-arrow\">HydraTransform</label><div class=\"sk-toggleable__content\"><pre>HydraTransform(n_jobs=-1, random_state=1)</pre></div></div></div><div class=\"sk-item\"><div class=\"sk-estimator sk-toggleable\"><input class=\"sk-toggleable__control sk-hidden--visually\" id=\"sk-estimator-id-3\" type=\"checkbox\" ><label for=\"sk-estimator-id-3\" class=\"sk-toggleable__label sk-toggleable__label-arrow\">SparseScaler</label><div class=\"sk-toggleable__content\"><pre>SparseScaler()</pre></div></div></div><div class=\"sk-item\"><div class=\"sk-estimator sk-toggleable\"><input class=\"sk-toggleable__control sk-hidden--visually\" id=\"sk-estimator-id-4\" type=\"checkbox\" ><label for=\"sk-estimator-id-4\" class=\"sk-toggleable__label sk-toggleable__label-arrow\">RidgeClassifierCV</label><div class=\"sk-toggleable__content\"><pre>RidgeClassifierCV()</pre></div></div></div></div></div></div></div>"
      ],
      "text/plain": [
       "Pipeline(steps=[('hydratransform', HydraTransform(n_jobs=-1, random_state=1)),\n",
       "                ('sparsescaler', SparseScaler()),\n",
       "                ('ridgeclassifiercv', RidgeClassifierCV())])"
      ]
     },
     "execution_count": 4,
     "metadata": {},
     "output_type": "execute_result"
    }
   ],
   "source": [
    "hydra.fit(X_train, y_train)"
   ]
  },
  {
   "cell_type": "code",
   "execution_count": 5,
   "id": "9c47dde0-0e6b-4369-b9b2-fbb57badba4a",
   "metadata": {
    "execution": {
     "iopub.execute_input": "2023-11-15T22:54:16.794581Z",
     "iopub.status.busy": "2023-11-15T22:54:16.794236Z",
     "iopub.status.idle": "2023-11-15T22:54:17.361694Z",
     "shell.execute_reply": "2023-11-15T22:54:17.361026Z"
    }
   },
   "outputs": [
    {
     "data": {
      "text/plain": [
       "0.9968553459119497"
      ]
     },
     "execution_count": 5,
     "metadata": {},
     "output_type": "execute_result"
    }
   ],
   "source": [
    "hydra.score(X_test, y_test)"
   ]
  },
  {
   "cell_type": "markdown",
   "id": "cf94dd96-0369-4f7f-a408-8baf69a8103a",
   "metadata": {},
   "source": [
    "## Rocket transform\n",
    "Similarly, we create a pipeline where we use `Rocket` as the first transformation. Instead of the sparse scaler, we here use the traditional normalization to standardize the resulting transformation."
   ]
  },
  {
   "cell_type": "code",
   "execution_count": 6,
   "id": "73ec6717-9347-49ef-b14c-b3cb61e75d0c",
   "metadata": {
    "execution": {
     "iopub.execute_input": "2023-11-15T22:54:17.366504Z",
     "iopub.status.busy": "2023-11-15T22:54:17.365337Z",
     "iopub.status.idle": "2023-11-15T22:54:17.370519Z",
     "shell.execute_reply": "2023-11-15T22:54:17.369936Z"
    }
   },
   "outputs": [],
   "source": [
    "rocket = make_pipeline(\n",
    "    RocketTransform(n_kernels=10000, random_state=1, n_jobs=-1),\n",
    "    StandardScaler(),\n",
    "    RidgeClassifierCV(),\n",
    ")"
   ]
  },
  {
   "cell_type": "code",
   "execution_count": 7,
   "id": "6bec831d-6c7e-4e4f-b52f-7f1ebdfe77f1",
   "metadata": {
    "execution": {
     "iopub.execute_input": "2023-11-15T22:54:17.374761Z",
     "iopub.status.busy": "2023-11-15T22:54:17.373631Z",
     "iopub.status.idle": "2023-11-15T22:54:21.681598Z",
     "shell.execute_reply": "2023-11-15T22:54:21.680921Z"
    }
   },
   "outputs": [
    {
     "data": {
      "text/html": [
       "<style>#sk-container-id-2 {color: black;}#sk-container-id-2 pre{padding: 0;}#sk-container-id-2 div.sk-toggleable {background-color: white;}#sk-container-id-2 label.sk-toggleable__label {cursor: pointer;display: block;width: 100%;margin-bottom: 0;padding: 0.3em;box-sizing: border-box;text-align: center;}#sk-container-id-2 label.sk-toggleable__label-arrow:before {content: \"▸\";float: left;margin-right: 0.25em;color: #696969;}#sk-container-id-2 label.sk-toggleable__label-arrow:hover:before {color: black;}#sk-container-id-2 div.sk-estimator:hover label.sk-toggleable__label-arrow:before {color: black;}#sk-container-id-2 div.sk-toggleable__content {max-height: 0;max-width: 0;overflow: hidden;text-align: left;background-color: #f0f8ff;}#sk-container-id-2 div.sk-toggleable__content pre {margin: 0.2em;color: black;border-radius: 0.25em;background-color: #f0f8ff;}#sk-container-id-2 input.sk-toggleable__control:checked~div.sk-toggleable__content {max-height: 200px;max-width: 100%;overflow: auto;}#sk-container-id-2 input.sk-toggleable__control:checked~label.sk-toggleable__label-arrow:before {content: \"▾\";}#sk-container-id-2 div.sk-estimator input.sk-toggleable__control:checked~label.sk-toggleable__label {background-color: #d4ebff;}#sk-container-id-2 div.sk-label input.sk-toggleable__control:checked~label.sk-toggleable__label {background-color: #d4ebff;}#sk-container-id-2 input.sk-hidden--visually {border: 0;clip: rect(1px 1px 1px 1px);clip: rect(1px, 1px, 1px, 1px);height: 1px;margin: -1px;overflow: hidden;padding: 0;position: absolute;width: 1px;}#sk-container-id-2 div.sk-estimator {font-family: monospace;background-color: #f0f8ff;border: 1px dotted black;border-radius: 0.25em;box-sizing: border-box;margin-bottom: 0.5em;}#sk-container-id-2 div.sk-estimator:hover {background-color: #d4ebff;}#sk-container-id-2 div.sk-parallel-item::after {content: \"\";width: 100%;border-bottom: 1px solid gray;flex-grow: 1;}#sk-container-id-2 div.sk-label:hover label.sk-toggleable__label {background-color: #d4ebff;}#sk-container-id-2 div.sk-serial::before {content: \"\";position: absolute;border-left: 1px solid gray;box-sizing: border-box;top: 0;bottom: 0;left: 50%;z-index: 0;}#sk-container-id-2 div.sk-serial {display: flex;flex-direction: column;align-items: center;background-color: white;padding-right: 0.2em;padding-left: 0.2em;position: relative;}#sk-container-id-2 div.sk-item {position: relative;z-index: 1;}#sk-container-id-2 div.sk-parallel {display: flex;align-items: stretch;justify-content: center;background-color: white;position: relative;}#sk-container-id-2 div.sk-item::before, #sk-container-id-2 div.sk-parallel-item::before {content: \"\";position: absolute;border-left: 1px solid gray;box-sizing: border-box;top: 0;bottom: 0;left: 50%;z-index: -1;}#sk-container-id-2 div.sk-parallel-item {display: flex;flex-direction: column;z-index: 1;position: relative;background-color: white;}#sk-container-id-2 div.sk-parallel-item:first-child::after {align-self: flex-end;width: 50%;}#sk-container-id-2 div.sk-parallel-item:last-child::after {align-self: flex-start;width: 50%;}#sk-container-id-2 div.sk-parallel-item:only-child::after {width: 0;}#sk-container-id-2 div.sk-dashed-wrapped {border: 1px dashed gray;margin: 0 0.4em 0.5em 0.4em;box-sizing: border-box;padding-bottom: 0.4em;background-color: white;}#sk-container-id-2 div.sk-label label {font-family: monospace;font-weight: bold;display: inline-block;line-height: 1.2em;}#sk-container-id-2 div.sk-label-container {text-align: center;}#sk-container-id-2 div.sk-container {/* jupyter's `normalize.less` sets `[hidden] { display: none; }` but bootstrap.min.css set `[hidden] { display: none !important; }` so we also need the `!important` here to be able to override the default hidden behavior on the sphinx rendered scikit-learn.org. See: https://github.com/scikit-learn/scikit-learn/issues/21755 */display: inline-block !important;position: relative;}#sk-container-id-2 div.sk-text-repr-fallback {display: none;}</style><div id=\"sk-container-id-2\" class=\"sk-top-container\"><div class=\"sk-text-repr-fallback\"><pre>Pipeline(steps=[(&#x27;rockettransform&#x27;,\n",
       "                 RocketTransform(n_jobs=-1, n_kernels=10000, random_state=1)),\n",
       "                (&#x27;standardscaler&#x27;, StandardScaler()),\n",
       "                (&#x27;ridgeclassifiercv&#x27;, RidgeClassifierCV())])</pre><b>In a Jupyter environment, please rerun this cell to show the HTML representation or trust the notebook. <br />On GitHub, the HTML representation is unable to render, please try loading this page with nbviewer.org.</b></div><div class=\"sk-container\" hidden><div class=\"sk-item sk-dashed-wrapped\"><div class=\"sk-label-container\"><div class=\"sk-label sk-toggleable\"><input class=\"sk-toggleable__control sk-hidden--visually\" id=\"sk-estimator-id-5\" type=\"checkbox\" ><label for=\"sk-estimator-id-5\" class=\"sk-toggleable__label sk-toggleable__label-arrow\">Pipeline</label><div class=\"sk-toggleable__content\"><pre>Pipeline(steps=[(&#x27;rockettransform&#x27;,\n",
       "                 RocketTransform(n_jobs=-1, n_kernels=10000, random_state=1)),\n",
       "                (&#x27;standardscaler&#x27;, StandardScaler()),\n",
       "                (&#x27;ridgeclassifiercv&#x27;, RidgeClassifierCV())])</pre></div></div></div><div class=\"sk-serial\"><div class=\"sk-item\"><div class=\"sk-estimator sk-toggleable\"><input class=\"sk-toggleable__control sk-hidden--visually\" id=\"sk-estimator-id-6\" type=\"checkbox\" ><label for=\"sk-estimator-id-6\" class=\"sk-toggleable__label sk-toggleable__label-arrow\">RocketTransform</label><div class=\"sk-toggleable__content\"><pre>RocketTransform(n_jobs=-1, n_kernels=10000, random_state=1)</pre></div></div></div><div class=\"sk-item\"><div class=\"sk-estimator sk-toggleable\"><input class=\"sk-toggleable__control sk-hidden--visually\" id=\"sk-estimator-id-7\" type=\"checkbox\" ><label for=\"sk-estimator-id-7\" class=\"sk-toggleable__label sk-toggleable__label-arrow\">StandardScaler</label><div class=\"sk-toggleable__content\"><pre>StandardScaler()</pre></div></div></div><div class=\"sk-item\"><div class=\"sk-estimator sk-toggleable\"><input class=\"sk-toggleable__control sk-hidden--visually\" id=\"sk-estimator-id-8\" type=\"checkbox\" ><label for=\"sk-estimator-id-8\" class=\"sk-toggleable__label sk-toggleable__label-arrow\">RidgeClassifierCV</label><div class=\"sk-toggleable__content\"><pre>RidgeClassifierCV()</pre></div></div></div></div></div></div></div>"
      ],
      "text/plain": [
       "Pipeline(steps=[('rockettransform',\n",
       "                 RocketTransform(n_jobs=-1, n_kernels=10000, random_state=1)),\n",
       "                ('standardscaler', StandardScaler()),\n",
       "                ('ridgeclassifiercv', RidgeClassifierCV())])"
      ]
     },
     "execution_count": 7,
     "metadata": {},
     "output_type": "execute_result"
    }
   ],
   "source": [
    "rocket.fit(X_train, y_train)"
   ]
  },
  {
   "cell_type": "code",
   "execution_count": 8,
   "id": "9663b475-c2c5-46f4-b9f4-5b8d74c64cf7",
   "metadata": {
    "execution": {
     "iopub.execute_input": "2023-11-15T22:54:21.687509Z",
     "iopub.status.busy": "2023-11-15T22:54:21.685766Z",
     "iopub.status.idle": "2023-11-15T22:54:22.958461Z",
     "shell.execute_reply": "2023-11-15T22:54:22.957779Z"
    }
   },
   "outputs": [
    {
     "data": {
      "text/plain": [
       "0.9905660377358491"
      ]
     },
     "execution_count": 8,
     "metadata": {},
     "output_type": "execute_result"
    }
   ],
   "source": [
    "rocket.score(X_test, y_test)"
   ]
  },
  {
   "cell_type": "markdown",
   "id": "9ab3880f-6263-4d6b-85d7-83ae9cc89263",
   "metadata": {},
   "source": [
    "## Hydra transform with first order differences\n",
    "\n",
    "In the paper (Dempsar, 2023), the `Hydra` transformation is not only computed for the original time series but also for the first order difference. To not inflate the resulting feature space, the authors suggest that half the kernels are allocated for the original input and half for the first order differences. Here, we make use of `make_union` from `scikit-learn` which concatenates two (or more) feature representations and the `DiffTransform` from Wildboar which transforms time series the the nth order difference to construct a new feature representation that consists of both the `Hydra` transform for the original time series and for the first order differences."
   ]
  },
  {
   "cell_type": "code",
   "execution_count": 9,
   "id": "bf7e66b7-db44-4c5d-83f8-e5ba2d5130ce",
   "metadata": {
    "execution": {
     "iopub.execute_input": "2023-11-15T22:54:22.963163Z",
     "iopub.status.busy": "2023-11-15T22:54:22.962007Z",
     "iopub.status.idle": "2023-11-15T22:54:22.967822Z",
     "shell.execute_reply": "2023-11-15T22:54:22.967235Z"
    }
   },
   "outputs": [],
   "source": [
    "hydra_diff = make_pipeline(\n",
    "    make_union(\n",
    "        HydraTransform(n_groups=32, random_state=1, n_jobs=-1),\n",
    "        make_pipeline(\n",
    "            DiffTransform(),\n",
    "            HydraTransform(n_groups=32, random_state=2, n_jobs=-1),\n",
    "        ),\n",
    "    ),\n",
    "    SparseScaler(),\n",
    "    RidgeClassifierCV(),\n",
    ")"
   ]
  },
  {
   "cell_type": "code",
   "execution_count": 10,
   "id": "65cb1269-974d-40b7-9e21-d123d020f4f4",
   "metadata": {
    "execution": {
     "iopub.execute_input": "2023-11-15T22:54:22.972094Z",
     "iopub.status.busy": "2023-11-15T22:54:22.970941Z",
     "iopub.status.idle": "2023-11-15T22:54:24.977557Z",
     "shell.execute_reply": "2023-11-15T22:54:24.976871Z"
    }
   },
   "outputs": [
    {
     "data": {
      "text/html": [
       "<style>#sk-container-id-3 {color: black;}#sk-container-id-3 pre{padding: 0;}#sk-container-id-3 div.sk-toggleable {background-color: white;}#sk-container-id-3 label.sk-toggleable__label {cursor: pointer;display: block;width: 100%;margin-bottom: 0;padding: 0.3em;box-sizing: border-box;text-align: center;}#sk-container-id-3 label.sk-toggleable__label-arrow:before {content: \"▸\";float: left;margin-right: 0.25em;color: #696969;}#sk-container-id-3 label.sk-toggleable__label-arrow:hover:before {color: black;}#sk-container-id-3 div.sk-estimator:hover label.sk-toggleable__label-arrow:before {color: black;}#sk-container-id-3 div.sk-toggleable__content {max-height: 0;max-width: 0;overflow: hidden;text-align: left;background-color: #f0f8ff;}#sk-container-id-3 div.sk-toggleable__content pre {margin: 0.2em;color: black;border-radius: 0.25em;background-color: #f0f8ff;}#sk-container-id-3 input.sk-toggleable__control:checked~div.sk-toggleable__content {max-height: 200px;max-width: 100%;overflow: auto;}#sk-container-id-3 input.sk-toggleable__control:checked~label.sk-toggleable__label-arrow:before {content: \"▾\";}#sk-container-id-3 div.sk-estimator input.sk-toggleable__control:checked~label.sk-toggleable__label {background-color: #d4ebff;}#sk-container-id-3 div.sk-label input.sk-toggleable__control:checked~label.sk-toggleable__label {background-color: #d4ebff;}#sk-container-id-3 input.sk-hidden--visually {border: 0;clip: rect(1px 1px 1px 1px);clip: rect(1px, 1px, 1px, 1px);height: 1px;margin: -1px;overflow: hidden;padding: 0;position: absolute;width: 1px;}#sk-container-id-3 div.sk-estimator {font-family: monospace;background-color: #f0f8ff;border: 1px dotted black;border-radius: 0.25em;box-sizing: border-box;margin-bottom: 0.5em;}#sk-container-id-3 div.sk-estimator:hover {background-color: #d4ebff;}#sk-container-id-3 div.sk-parallel-item::after {content: \"\";width: 100%;border-bottom: 1px solid gray;flex-grow: 1;}#sk-container-id-3 div.sk-label:hover label.sk-toggleable__label {background-color: #d4ebff;}#sk-container-id-3 div.sk-serial::before {content: \"\";position: absolute;border-left: 1px solid gray;box-sizing: border-box;top: 0;bottom: 0;left: 50%;z-index: 0;}#sk-container-id-3 div.sk-serial {display: flex;flex-direction: column;align-items: center;background-color: white;padding-right: 0.2em;padding-left: 0.2em;position: relative;}#sk-container-id-3 div.sk-item {position: relative;z-index: 1;}#sk-container-id-3 div.sk-parallel {display: flex;align-items: stretch;justify-content: center;background-color: white;position: relative;}#sk-container-id-3 div.sk-item::before, #sk-container-id-3 div.sk-parallel-item::before {content: \"\";position: absolute;border-left: 1px solid gray;box-sizing: border-box;top: 0;bottom: 0;left: 50%;z-index: -1;}#sk-container-id-3 div.sk-parallel-item {display: flex;flex-direction: column;z-index: 1;position: relative;background-color: white;}#sk-container-id-3 div.sk-parallel-item:first-child::after {align-self: flex-end;width: 50%;}#sk-container-id-3 div.sk-parallel-item:last-child::after {align-self: flex-start;width: 50%;}#sk-container-id-3 div.sk-parallel-item:only-child::after {width: 0;}#sk-container-id-3 div.sk-dashed-wrapped {border: 1px dashed gray;margin: 0 0.4em 0.5em 0.4em;box-sizing: border-box;padding-bottom: 0.4em;background-color: white;}#sk-container-id-3 div.sk-label label {font-family: monospace;font-weight: bold;display: inline-block;line-height: 1.2em;}#sk-container-id-3 div.sk-label-container {text-align: center;}#sk-container-id-3 div.sk-container {/* jupyter's `normalize.less` sets `[hidden] { display: none; }` but bootstrap.min.css set `[hidden] { display: none !important; }` so we also need the `!important` here to be able to override the default hidden behavior on the sphinx rendered scikit-learn.org. See: https://github.com/scikit-learn/scikit-learn/issues/21755 */display: inline-block !important;position: relative;}#sk-container-id-3 div.sk-text-repr-fallback {display: none;}</style><div id=\"sk-container-id-3\" class=\"sk-top-container\"><div class=\"sk-text-repr-fallback\"><pre>Pipeline(steps=[(&#x27;featureunion&#x27;,\n",
       "                 FeatureUnion(transformer_list=[(&#x27;hydratransform&#x27;,\n",
       "                                                 HydraTransform(n_groups=32,\n",
       "                                                                n_jobs=-1,\n",
       "                                                                random_state=1)),\n",
       "                                                (&#x27;pipeline&#x27;,\n",
       "                                                 Pipeline(steps=[(&#x27;difftransform&#x27;,\n",
       "                                                                  DiffTransform()),\n",
       "                                                                 (&#x27;hydratransform&#x27;,\n",
       "                                                                  HydraTransform(n_groups=32,\n",
       "                                                                                 n_jobs=-1,\n",
       "                                                                                 random_state=2))]))])),\n",
       "                (&#x27;sparsescaler&#x27;, SparseScaler()),\n",
       "                (&#x27;ridgeclassifiercv&#x27;, RidgeClassifierCV())])</pre><b>In a Jupyter environment, please rerun this cell to show the HTML representation or trust the notebook. <br />On GitHub, the HTML representation is unable to render, please try loading this page with nbviewer.org.</b></div><div class=\"sk-container\" hidden><div class=\"sk-item sk-dashed-wrapped\"><div class=\"sk-label-container\"><div class=\"sk-label sk-toggleable\"><input class=\"sk-toggleable__control sk-hidden--visually\" id=\"sk-estimator-id-9\" type=\"checkbox\" ><label for=\"sk-estimator-id-9\" class=\"sk-toggleable__label sk-toggleable__label-arrow\">Pipeline</label><div class=\"sk-toggleable__content\"><pre>Pipeline(steps=[(&#x27;featureunion&#x27;,\n",
       "                 FeatureUnion(transformer_list=[(&#x27;hydratransform&#x27;,\n",
       "                                                 HydraTransform(n_groups=32,\n",
       "                                                                n_jobs=-1,\n",
       "                                                                random_state=1)),\n",
       "                                                (&#x27;pipeline&#x27;,\n",
       "                                                 Pipeline(steps=[(&#x27;difftransform&#x27;,\n",
       "                                                                  DiffTransform()),\n",
       "                                                                 (&#x27;hydratransform&#x27;,\n",
       "                                                                  HydraTransform(n_groups=32,\n",
       "                                                                                 n_jobs=-1,\n",
       "                                                                                 random_state=2))]))])),\n",
       "                (&#x27;sparsescaler&#x27;, SparseScaler()),\n",
       "                (&#x27;ridgeclassifiercv&#x27;, RidgeClassifierCV())])</pre></div></div></div><div class=\"sk-serial\"><div class=\"sk-item sk-dashed-wrapped\"><div class=\"sk-label-container\"><div class=\"sk-label sk-toggleable\"><input class=\"sk-toggleable__control sk-hidden--visually\" id=\"sk-estimator-id-10\" type=\"checkbox\" ><label for=\"sk-estimator-id-10\" class=\"sk-toggleable__label sk-toggleable__label-arrow\">featureunion: FeatureUnion</label><div class=\"sk-toggleable__content\"><pre>FeatureUnion(transformer_list=[(&#x27;hydratransform&#x27;,\n",
       "                                HydraTransform(n_groups=32, n_jobs=-1,\n",
       "                                               random_state=1)),\n",
       "                               (&#x27;pipeline&#x27;,\n",
       "                                Pipeline(steps=[(&#x27;difftransform&#x27;,\n",
       "                                                 DiffTransform()),\n",
       "                                                (&#x27;hydratransform&#x27;,\n",
       "                                                 HydraTransform(n_groups=32,\n",
       "                                                                n_jobs=-1,\n",
       "                                                                random_state=2))]))])</pre></div></div></div><div class=\"sk-parallel\"><div class=\"sk-parallel-item\"><div class=\"sk-item\"><div class=\"sk-label-container\"><div class=\"sk-label sk-toggleable\"><label>hydratransform</label></div></div><div class=\"sk-serial\"><div class=\"sk-item\"><div class=\"sk-estimator sk-toggleable\"><input class=\"sk-toggleable__control sk-hidden--visually\" id=\"sk-estimator-id-11\" type=\"checkbox\" ><label for=\"sk-estimator-id-11\" class=\"sk-toggleable__label sk-toggleable__label-arrow\">HydraTransform</label><div class=\"sk-toggleable__content\"><pre>HydraTransform(n_groups=32, n_jobs=-1, random_state=1)</pre></div></div></div></div></div></div><div class=\"sk-parallel-item\"><div class=\"sk-item\"><div class=\"sk-label-container\"><div class=\"sk-label sk-toggleable\"><label>pipeline</label></div></div><div class=\"sk-serial\"><div class=\"sk-item\"><div class=\"sk-serial\"><div class=\"sk-item\"><div class=\"sk-estimator sk-toggleable\"><input class=\"sk-toggleable__control sk-hidden--visually\" id=\"sk-estimator-id-12\" type=\"checkbox\" ><label for=\"sk-estimator-id-12\" class=\"sk-toggleable__label sk-toggleable__label-arrow\">DiffTransform</label><div class=\"sk-toggleable__content\"><pre>DiffTransform()</pre></div></div></div><div class=\"sk-item\"><div class=\"sk-estimator sk-toggleable\"><input class=\"sk-toggleable__control sk-hidden--visually\" id=\"sk-estimator-id-13\" type=\"checkbox\" ><label for=\"sk-estimator-id-13\" class=\"sk-toggleable__label sk-toggleable__label-arrow\">HydraTransform</label><div class=\"sk-toggleable__content\"><pre>HydraTransform(n_groups=32, n_jobs=-1, random_state=2)</pre></div></div></div></div></div></div></div></div></div></div><div class=\"sk-item\"><div class=\"sk-estimator sk-toggleable\"><input class=\"sk-toggleable__control sk-hidden--visually\" id=\"sk-estimator-id-14\" type=\"checkbox\" ><label for=\"sk-estimator-id-14\" class=\"sk-toggleable__label sk-toggleable__label-arrow\">SparseScaler</label><div class=\"sk-toggleable__content\"><pre>SparseScaler()</pre></div></div></div><div class=\"sk-item\"><div class=\"sk-estimator sk-toggleable\"><input class=\"sk-toggleable__control sk-hidden--visually\" id=\"sk-estimator-id-15\" type=\"checkbox\" ><label for=\"sk-estimator-id-15\" class=\"sk-toggleable__label sk-toggleable__label-arrow\">RidgeClassifierCV</label><div class=\"sk-toggleable__content\"><pre>RidgeClassifierCV()</pre></div></div></div></div></div></div></div>"
      ],
      "text/plain": [
       "Pipeline(steps=[('featureunion',\n",
       "                 FeatureUnion(transformer_list=[('hydratransform',\n",
       "                                                 HydraTransform(n_groups=32,\n",
       "                                                                n_jobs=-1,\n",
       "                                                                random_state=1)),\n",
       "                                                ('pipeline',\n",
       "                                                 Pipeline(steps=[('difftransform',\n",
       "                                                                  DiffTransform()),\n",
       "                                                                 ('hydratransform',\n",
       "                                                                  HydraTransform(n_groups=32,\n",
       "                                                                                 n_jobs=-1,\n",
       "                                                                                 random_state=2))]))])),\n",
       "                ('sparsescaler', SparseScaler()),\n",
       "                ('ridgeclassifiercv', RidgeClassifierCV())])"
      ]
     },
     "execution_count": 10,
     "metadata": {},
     "output_type": "execute_result"
    }
   ],
   "source": [
    "hydra_diff.fit(X_train, y_train)"
   ]
  },
  {
   "cell_type": "code",
   "execution_count": 11,
   "id": "cb2efdc8-7306-41c0-8403-c191ecc4363e",
   "metadata": {
    "execution": {
     "iopub.execute_input": "2023-11-15T22:54:24.981871Z",
     "iopub.status.busy": "2023-11-15T22:54:24.980690Z",
     "iopub.status.idle": "2023-11-15T22:54:25.512866Z",
     "shell.execute_reply": "2023-11-15T22:54:25.512204Z"
    }
   },
   "outputs": [
    {
     "data": {
      "text/plain": [
       "0.9968553459119497"
      ]
     },
     "execution_count": 11,
     "metadata": {},
     "output_type": "execute_result"
    }
   ],
   "source": [
    "hydra_diff.score(X_test, y_test)"
   ]
  },
  {
   "cell_type": "markdown",
   "id": "f3312c6e-ce07-417e-b72d-1577c49bba3b",
   "metadata": {},
   "source": [
    "## Rocket transform with first order differences\n",
    "\n",
    "Again, we perform the same transformation but substitute `Hydra` for `Rocket`. Similarly, we allocate half the kernels for the original time series and the other half of the kernels for the first order differences."
   ]
  },
  {
   "cell_type": "code",
   "execution_count": 12,
   "id": "8ffa6d11-0c73-4b26-a2d7-f91b596b2517",
   "metadata": {
    "execution": {
     "iopub.execute_input": "2023-11-15T22:54:25.517562Z",
     "iopub.status.busy": "2023-11-15T22:54:25.516403Z",
     "iopub.status.idle": "2023-11-15T22:54:25.522253Z",
     "shell.execute_reply": "2023-11-15T22:54:25.521655Z"
    }
   },
   "outputs": [],
   "source": [
    "rocket_diff = make_pipeline(\n",
    "    make_union(\n",
    "        RocketTransform(n_kernels=5000, random_state=1, n_jobs=-1),\n",
    "        make_pipeline(\n",
    "            DiffTransform(),\n",
    "            RocketTransform(n_kernels=5000, random_state=2, n_jobs=-1),\n",
    "        ),\n",
    "    ),\n",
    "    StandardScaler(),\n",
    "    RidgeClassifierCV(),\n",
    ")"
   ]
  },
  {
   "cell_type": "code",
   "execution_count": 13,
   "id": "c2f9e62b-35cb-4cd7-b671-7fab6569b6e0",
   "metadata": {
    "execution": {
     "iopub.execute_input": "2023-11-15T22:54:25.526630Z",
     "iopub.status.busy": "2023-11-15T22:54:25.525473Z",
     "iopub.status.idle": "2023-11-15T22:54:29.870262Z",
     "shell.execute_reply": "2023-11-15T22:54:29.869592Z"
    }
   },
   "outputs": [
    {
     "data": {
      "text/html": [
       "<style>#sk-container-id-4 {color: black;}#sk-container-id-4 pre{padding: 0;}#sk-container-id-4 div.sk-toggleable {background-color: white;}#sk-container-id-4 label.sk-toggleable__label {cursor: pointer;display: block;width: 100%;margin-bottom: 0;padding: 0.3em;box-sizing: border-box;text-align: center;}#sk-container-id-4 label.sk-toggleable__label-arrow:before {content: \"▸\";float: left;margin-right: 0.25em;color: #696969;}#sk-container-id-4 label.sk-toggleable__label-arrow:hover:before {color: black;}#sk-container-id-4 div.sk-estimator:hover label.sk-toggleable__label-arrow:before {color: black;}#sk-container-id-4 div.sk-toggleable__content {max-height: 0;max-width: 0;overflow: hidden;text-align: left;background-color: #f0f8ff;}#sk-container-id-4 div.sk-toggleable__content pre {margin: 0.2em;color: black;border-radius: 0.25em;background-color: #f0f8ff;}#sk-container-id-4 input.sk-toggleable__control:checked~div.sk-toggleable__content {max-height: 200px;max-width: 100%;overflow: auto;}#sk-container-id-4 input.sk-toggleable__control:checked~label.sk-toggleable__label-arrow:before {content: \"▾\";}#sk-container-id-4 div.sk-estimator input.sk-toggleable__control:checked~label.sk-toggleable__label {background-color: #d4ebff;}#sk-container-id-4 div.sk-label input.sk-toggleable__control:checked~label.sk-toggleable__label {background-color: #d4ebff;}#sk-container-id-4 input.sk-hidden--visually {border: 0;clip: rect(1px 1px 1px 1px);clip: rect(1px, 1px, 1px, 1px);height: 1px;margin: -1px;overflow: hidden;padding: 0;position: absolute;width: 1px;}#sk-container-id-4 div.sk-estimator {font-family: monospace;background-color: #f0f8ff;border: 1px dotted black;border-radius: 0.25em;box-sizing: border-box;margin-bottom: 0.5em;}#sk-container-id-4 div.sk-estimator:hover {background-color: #d4ebff;}#sk-container-id-4 div.sk-parallel-item::after {content: \"\";width: 100%;border-bottom: 1px solid gray;flex-grow: 1;}#sk-container-id-4 div.sk-label:hover label.sk-toggleable__label {background-color: #d4ebff;}#sk-container-id-4 div.sk-serial::before {content: \"\";position: absolute;border-left: 1px solid gray;box-sizing: border-box;top: 0;bottom: 0;left: 50%;z-index: 0;}#sk-container-id-4 div.sk-serial {display: flex;flex-direction: column;align-items: center;background-color: white;padding-right: 0.2em;padding-left: 0.2em;position: relative;}#sk-container-id-4 div.sk-item {position: relative;z-index: 1;}#sk-container-id-4 div.sk-parallel {display: flex;align-items: stretch;justify-content: center;background-color: white;position: relative;}#sk-container-id-4 div.sk-item::before, #sk-container-id-4 div.sk-parallel-item::before {content: \"\";position: absolute;border-left: 1px solid gray;box-sizing: border-box;top: 0;bottom: 0;left: 50%;z-index: -1;}#sk-container-id-4 div.sk-parallel-item {display: flex;flex-direction: column;z-index: 1;position: relative;background-color: white;}#sk-container-id-4 div.sk-parallel-item:first-child::after {align-self: flex-end;width: 50%;}#sk-container-id-4 div.sk-parallel-item:last-child::after {align-self: flex-start;width: 50%;}#sk-container-id-4 div.sk-parallel-item:only-child::after {width: 0;}#sk-container-id-4 div.sk-dashed-wrapped {border: 1px dashed gray;margin: 0 0.4em 0.5em 0.4em;box-sizing: border-box;padding-bottom: 0.4em;background-color: white;}#sk-container-id-4 div.sk-label label {font-family: monospace;font-weight: bold;display: inline-block;line-height: 1.2em;}#sk-container-id-4 div.sk-label-container {text-align: center;}#sk-container-id-4 div.sk-container {/* jupyter's `normalize.less` sets `[hidden] { display: none; }` but bootstrap.min.css set `[hidden] { display: none !important; }` so we also need the `!important` here to be able to override the default hidden behavior on the sphinx rendered scikit-learn.org. See: https://github.com/scikit-learn/scikit-learn/issues/21755 */display: inline-block !important;position: relative;}#sk-container-id-4 div.sk-text-repr-fallback {display: none;}</style><div id=\"sk-container-id-4\" class=\"sk-top-container\"><div class=\"sk-text-repr-fallback\"><pre>Pipeline(steps=[(&#x27;featureunion&#x27;,\n",
       "                 FeatureUnion(transformer_list=[(&#x27;rockettransform&#x27;,\n",
       "                                                 RocketTransform(n_jobs=-1,\n",
       "                                                                 n_kernels=5000,\n",
       "                                                                 random_state=1)),\n",
       "                                                (&#x27;pipeline&#x27;,\n",
       "                                                 Pipeline(steps=[(&#x27;difftransform&#x27;,\n",
       "                                                                  DiffTransform()),\n",
       "                                                                 (&#x27;rockettransform&#x27;,\n",
       "                                                                  RocketTransform(n_jobs=-1,\n",
       "                                                                                  n_kernels=5000,\n",
       "                                                                                  random_state=2))]))])),\n",
       "                (&#x27;standardscaler&#x27;, StandardScaler()),\n",
       "                (&#x27;ridgeclassifiercv&#x27;, RidgeClassifierCV())])</pre><b>In a Jupyter environment, please rerun this cell to show the HTML representation or trust the notebook. <br />On GitHub, the HTML representation is unable to render, please try loading this page with nbviewer.org.</b></div><div class=\"sk-container\" hidden><div class=\"sk-item sk-dashed-wrapped\"><div class=\"sk-label-container\"><div class=\"sk-label sk-toggleable\"><input class=\"sk-toggleable__control sk-hidden--visually\" id=\"sk-estimator-id-16\" type=\"checkbox\" ><label for=\"sk-estimator-id-16\" class=\"sk-toggleable__label sk-toggleable__label-arrow\">Pipeline</label><div class=\"sk-toggleable__content\"><pre>Pipeline(steps=[(&#x27;featureunion&#x27;,\n",
       "                 FeatureUnion(transformer_list=[(&#x27;rockettransform&#x27;,\n",
       "                                                 RocketTransform(n_jobs=-1,\n",
       "                                                                 n_kernels=5000,\n",
       "                                                                 random_state=1)),\n",
       "                                                (&#x27;pipeline&#x27;,\n",
       "                                                 Pipeline(steps=[(&#x27;difftransform&#x27;,\n",
       "                                                                  DiffTransform()),\n",
       "                                                                 (&#x27;rockettransform&#x27;,\n",
       "                                                                  RocketTransform(n_jobs=-1,\n",
       "                                                                                  n_kernels=5000,\n",
       "                                                                                  random_state=2))]))])),\n",
       "                (&#x27;standardscaler&#x27;, StandardScaler()),\n",
       "                (&#x27;ridgeclassifiercv&#x27;, RidgeClassifierCV())])</pre></div></div></div><div class=\"sk-serial\"><div class=\"sk-item sk-dashed-wrapped\"><div class=\"sk-label-container\"><div class=\"sk-label sk-toggleable\"><input class=\"sk-toggleable__control sk-hidden--visually\" id=\"sk-estimator-id-17\" type=\"checkbox\" ><label for=\"sk-estimator-id-17\" class=\"sk-toggleable__label sk-toggleable__label-arrow\">featureunion: FeatureUnion</label><div class=\"sk-toggleable__content\"><pre>FeatureUnion(transformer_list=[(&#x27;rockettransform&#x27;,\n",
       "                                RocketTransform(n_jobs=-1, n_kernels=5000,\n",
       "                                                random_state=1)),\n",
       "                               (&#x27;pipeline&#x27;,\n",
       "                                Pipeline(steps=[(&#x27;difftransform&#x27;,\n",
       "                                                 DiffTransform()),\n",
       "                                                (&#x27;rockettransform&#x27;,\n",
       "                                                 RocketTransform(n_jobs=-1,\n",
       "                                                                 n_kernels=5000,\n",
       "                                                                 random_state=2))]))])</pre></div></div></div><div class=\"sk-parallel\"><div class=\"sk-parallel-item\"><div class=\"sk-item\"><div class=\"sk-label-container\"><div class=\"sk-label sk-toggleable\"><label>rockettransform</label></div></div><div class=\"sk-serial\"><div class=\"sk-item\"><div class=\"sk-estimator sk-toggleable\"><input class=\"sk-toggleable__control sk-hidden--visually\" id=\"sk-estimator-id-18\" type=\"checkbox\" ><label for=\"sk-estimator-id-18\" class=\"sk-toggleable__label sk-toggleable__label-arrow\">RocketTransform</label><div class=\"sk-toggleable__content\"><pre>RocketTransform(n_jobs=-1, n_kernels=5000, random_state=1)</pre></div></div></div></div></div></div><div class=\"sk-parallel-item\"><div class=\"sk-item\"><div class=\"sk-label-container\"><div class=\"sk-label sk-toggleable\"><label>pipeline</label></div></div><div class=\"sk-serial\"><div class=\"sk-item\"><div class=\"sk-serial\"><div class=\"sk-item\"><div class=\"sk-estimator sk-toggleable\"><input class=\"sk-toggleable__control sk-hidden--visually\" id=\"sk-estimator-id-19\" type=\"checkbox\" ><label for=\"sk-estimator-id-19\" class=\"sk-toggleable__label sk-toggleable__label-arrow\">DiffTransform</label><div class=\"sk-toggleable__content\"><pre>DiffTransform()</pre></div></div></div><div class=\"sk-item\"><div class=\"sk-estimator sk-toggleable\"><input class=\"sk-toggleable__control sk-hidden--visually\" id=\"sk-estimator-id-20\" type=\"checkbox\" ><label for=\"sk-estimator-id-20\" class=\"sk-toggleable__label sk-toggleable__label-arrow\">RocketTransform</label><div class=\"sk-toggleable__content\"><pre>RocketTransform(n_jobs=-1, n_kernels=5000, random_state=2)</pre></div></div></div></div></div></div></div></div></div></div><div class=\"sk-item\"><div class=\"sk-estimator sk-toggleable\"><input class=\"sk-toggleable__control sk-hidden--visually\" id=\"sk-estimator-id-21\" type=\"checkbox\" ><label for=\"sk-estimator-id-21\" class=\"sk-toggleable__label sk-toggleable__label-arrow\">StandardScaler</label><div class=\"sk-toggleable__content\"><pre>StandardScaler()</pre></div></div></div><div class=\"sk-item\"><div class=\"sk-estimator sk-toggleable\"><input class=\"sk-toggleable__control sk-hidden--visually\" id=\"sk-estimator-id-22\" type=\"checkbox\" ><label for=\"sk-estimator-id-22\" class=\"sk-toggleable__label sk-toggleable__label-arrow\">RidgeClassifierCV</label><div class=\"sk-toggleable__content\"><pre>RidgeClassifierCV()</pre></div></div></div></div></div></div></div>"
      ],
      "text/plain": [
       "Pipeline(steps=[('featureunion',\n",
       "                 FeatureUnion(transformer_list=[('rockettransform',\n",
       "                                                 RocketTransform(n_jobs=-1,\n",
       "                                                                 n_kernels=5000,\n",
       "                                                                 random_state=1)),\n",
       "                                                ('pipeline',\n",
       "                                                 Pipeline(steps=[('difftransform',\n",
       "                                                                  DiffTransform()),\n",
       "                                                                 ('rockettransform',\n",
       "                                                                  RocketTransform(n_jobs=-1,\n",
       "                                                                                  n_kernels=5000,\n",
       "                                                                                  random_state=2))]))])),\n",
       "                ('standardscaler', StandardScaler()),\n",
       "                ('ridgeclassifiercv', RidgeClassifierCV())])"
      ]
     },
     "execution_count": 13,
     "metadata": {},
     "output_type": "execute_result"
    }
   ],
   "source": [
    "rocket_diff.fit(X_train, y_train)"
   ]
  },
  {
   "cell_type": "code",
   "execution_count": 14,
   "id": "56cf82c3-8097-49a9-9030-d63d7e467d4a",
   "metadata": {
    "execution": {
     "iopub.execute_input": "2023-11-15T22:54:29.874479Z",
     "iopub.status.busy": "2023-11-15T22:54:29.873324Z",
     "iopub.status.idle": "2023-11-15T22:54:31.133942Z",
     "shell.execute_reply": "2023-11-15T22:54:31.133264Z"
    }
   },
   "outputs": [
    {
     "data": {
      "text/plain": [
       "0.9968553459119497"
      ]
     },
     "execution_count": 14,
     "metadata": {},
     "output_type": "execute_result"
    }
   ],
   "source": [
    "rocket_diff.score(X_test, y_test)"
   ]
  },
  {
   "cell_type": "markdown",
   "id": "8f4e2066-f2b1-434f-b117-b8ff932b8b6d",
   "metadata": {},
   "source": [
    "For this limited example, we can see that both `Hydra` and `Rocket` perform very well without significant differences in resulting predictive performance for the classifier."
   ]
  }
 ],
 "metadata": {
  "kernelspec": {
   "display_name": "Python 3 (ipykernel)",
   "language": "python",
   "name": "python3"
  },
  "language_info": {
   "codemirror_mode": {
    "name": "ipython",
    "version": 3
   },
   "file_extension": ".py",
   "mimetype": "text/x-python",
   "name": "python",
   "nbconvert_exporter": "python",
   "pygments_lexer": "ipython3",
   "version": "3.9.18"
  }
 },
 "nbformat": 4,
 "nbformat_minor": 5
}
